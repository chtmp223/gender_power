{
  "cells": [
    {
      "cell_type": "code",
      "execution_count": 1,
      "metadata": {
        "id": "ua9fNxDaOZXj"
      },
      "outputs": [],
      "source": [
        "import json\n",
        "import os\n",
        "import pandas as pd\n",
        "from nltk.stem import WordNetLemmatizer"
      ]
    },
    {
      "cell_type": "markdown",
      "metadata": {},
      "source": [
        "## Analysis of specific stories"
      ]
    },
    {
      "cell_type": "markdown",
      "metadata": {},
      "source": [
        "Aggregating mentions of characters"
      ]
    },
    {
      "cell_type": "code",
      "execution_count": 18,
      "metadata": {},
      "outputs": [],
      "source": [
        "translation = 'Kline_translation'"
      ]
    },
    {
      "cell_type": "code",
      "execution_count": 9,
      "metadata": {},
      "outputs": [],
      "source": [
        "for story_name in os.listdir(translation):\n",
        "    if story_name == 'full_text' or story_name == 'medea' or story_name.endswith('.csv'):\n",
        "        continue\n",
        "\n",
        "    curr_dir = translation + '/' + story_name\n",
        "    story_char_info = {}\n",
        "    \n",
        "    # Read in the booknlp output\n",
        "    with open(curr_dir + '/' + story_name + '.book') as f:\n",
        "        book = json.load(f)\n",
        "    \n",
        "    # Read in the character indices\n",
        "    with open(curr_dir + '/' + story_name + '_char_ids.json') as f:\n",
        "        char_to_idx = json.load(f)\n",
        "    \n",
        "    # create dict of indices to characters\n",
        "    idx_to_char = {idx: char_name for char_name, indices in char_to_idx.items() for idx in indices}\n",
        "\n",
        "    # fill in the story_char_info dict\n",
        "    for char_name in char_to_idx:\n",
        "        story_char_info[char_name] = {\n",
        "            'agent': [],\n",
        "            'patient': [],\n",
        "            'mod': [],\n",
        "            'poss': [],\n",
        "            'gender': ''\n",
        "        }\n",
        "    \n",
        "    for char in book['characters']:\n",
        "        if char['id'] in idx_to_char:\n",
        "            char_name = idx_to_char[char['id']]\n",
        "        else:\n",
        "            continue\n",
        "        \n",
        "        story_char_info[char_name]['agent'] += char['agent']\n",
        "        story_char_info[char_name]['patient'] += char['patient']\n",
        "        story_char_info[char_name]['mod'] += char['mod']\n",
        "        story_char_info[char_name]['poss'] += char['poss']\n",
        "        \n",
        "        if story_char_info[char_name]['gender'] == '' and char['g'] is not None:\n",
        "            story_char_info[char_name]['gender'] = char['g']['argmax']\n",
        "    \n",
        "    # save the story_char_info dict as json\n",
        "    with open(curr_dir + '/' + story_name + '_char_info.json', 'w') as f:\n",
        "        json.dump(story_char_info, f)"
      ]
    },
    {
      "cell_type": "markdown",
      "metadata": {},
      "source": [
        "Modify Agency Power Frames lexicon to add missing vocab"
      ]
    },
    {
      "cell_type": "code",
      "execution_count": 15,
      "metadata": {},
      "outputs": [],
      "source": [
        "lexicon_path = '../lexicon/FramesAgencyPower/agency_power.csv'\n",
        "lexicon = pd.read_csv(lexicon_path)"
      ]
    },
    {
      "cell_type": "code",
      "execution_count": 20,
      "metadata": {},
      "outputs": [],
      "source": [
        "# get list of all verbs in lexicon\n",
        "lemmatizer = WordNetLemmatizer()\n",
        "lexicon_verbs = lexicon['verb'].tolist()\n",
        "lexicon_verbs = [lemmatizer.lemmatize(verb, pos='v') for verb in lexicon_verbs]\n",
        "\n",
        "# find verbs in stories missing from lexicon\n",
        "missing_verbs = []\n",
        "for story_name in os.listdir(translation):\n",
        "    if story_name == 'full_text' or story_name == 'medea' or story_name.endswith('.csv'):\n",
        "        continue\n",
        "    \n",
        "    with open(translation + '/' + story_name + '/' + story_name + '_char_info.json') as f:\n",
        "        story_char_info = json.load(f)\n",
        "\n",
        "    # get list of all verbs used in story by main characters\n",
        "    all_verbs = []\n",
        "    for char_name in story_char_info:\n",
        "        all_verbs += [verb['w'] for verb in story_char_info[char_name]['agent']]\n",
        "        all_verbs += [verb['w'] for verb in story_char_info[char_name]['patient']]\n",
        "\n",
        "    # lemmatize verbs\n",
        "    all_verbs = [lemmatizer.lemmatize(verb.lower(), pos='v') for verb in all_verbs]\n",
        "\n",
        "    # find verbs in story that are not in lexicon\n",
        "    missing_verbs += [verb for verb in all_verbs if verb not in lexicon_verbs]"
      ]
    },
    {
      "cell_type": "code",
      "execution_count": 36,
      "metadata": {},
      "outputs": [],
      "source": [
        "# replace lexicon verbs with lemmatized forms\n",
        "lexicon['verb'] = lexicon_verbs\n",
        "\n",
        "# add missing verbs to lexicon\n",
        "missing_verbs = list(set(missing_verbs))\n",
        "missing_verbs = pd.DataFrame(missing_verbs, columns=['verb'])\n",
        "missing_verbs['agency'] = ''\n",
        "missing_verbs['power'] = ''\n",
        "\n",
        "lexicon = pd.concat([lexicon, missing_verbs], ignore_index=True)"
      ]
    },
    {
      "cell_type": "code",
      "execution_count": 38,
      "metadata": {},
      "outputs": [],
      "source": [
        "# save new lexicon to csv file\n",
        "with open('../lexicon/FramesAgencyPower/agency_power_MODIFIED.csv', 'w') as f:\n",
        "    lexicon.to_csv(f)"
      ]
    },
    {
      "cell_type": "markdown",
      "metadata": {},
      "source": [
        "Get power and agency scores for select characters"
      ]
    },
    {
      "cell_type": "code",
      "execution_count": 13,
      "metadata": {},
      "outputs": [],
      "source": [
        "lemmatizer = WordNetLemmatizer()\n",
        "\n",
        "# load power agency lexicon\n",
        "lexicon_path = '../lexicon/FramesAgencyPower/agency_power_MODIFIED.csv'\n",
        "lexicon = pd.read_csv(lexicon_path)\n",
        "\n",
        "agency_power_scores = {}\n",
        "char_idx = 0\n",
        "for story_name in ['tereus_philomena', 'dis_proserpina_cyane']:\n",
        "    with open(translation + '/' + story_name + '/' + story_name + '_char_info.json') as f:\n",
        "        story_char_info = json.load(f)\n",
        "    \n",
        "    for char in story_char_info:\n",
        "\n",
        "        agency_power_scores[char_idx] = {\n",
        "            'name': char,\n",
        "            'story': story_name,\n",
        "            'translation': translation,\n",
        "            'agency': 0,\n",
        "            'power': 0\n",
        "        }\n",
        "        agency_count = 0\n",
        "        power_count = 0\n",
        "        \n",
        "        # get agency and power score for each verb the character is an agent of\n",
        "        for verb in story_char_info[char]['agent']:\n",
        "            verb = lemmatizer.lemmatize(verb['w'].lower(), pos='v')\n",
        "\n",
        "            if not verb in lexicon['verb'].tolist():\n",
        "                continue\n",
        "\n",
        "            # agency score\n",
        "            agency_type = lexicon[lexicon['verb'] == verb]['agency'].tolist()[0]\n",
        "            agency_power_scores[char_idx]['agency'] += 1 if agency_type == 'agency_pos' else (-1 if agency_type == 'agency_neg' else 0)\n",
        "            agency_count += 1\n",
        "\n",
        "            # power score\n",
        "            power_type = lexicon[lexicon['verb'] == verb]['power'].tolist()[0]\n",
        "            agency_power_scores[char_idx]['power'] += 1 if power_type == 'power_agent' else (-1 if power_type == 'power_theme' else 0)\n",
        "            power_count += 1\n",
        "        \n",
        "        # get power score for each verb the character is a patient of\n",
        "        for verb in story_char_info[char]['patient']:\n",
        "            verb = lemmatizer.lemmatize(verb['w'].lower(), pos='v')\n",
        "\n",
        "            if not verb in lexicon['verb'].tolist():\n",
        "                continue\n",
        "\n",
        "            # power score\n",
        "            power_type = lexicon[lexicon['verb'] == verb]['power'].tolist()[0]\n",
        "            agency_power_scores[char_idx]['power'] += 1 if power_type == 'power_theme' else (-1 if power_type == 'power_agent' else 0)\n",
        "            power_count += 1\n",
        "\n",
        "        # calculate average agency and power scores\n",
        "        agency_power_scores[char_idx]['agency'] /= agency_count\n",
        "        agency_power_scores[char_idx]['power'] /= power_count\n",
        "\n",
        "        char_idx += 1\n",
        "    "
      ]
    },
    {
      "cell_type": "code",
      "execution_count": 14,
      "metadata": {},
      "outputs": [],
      "source": [
        "# save agency power scores to csv file\n",
        "agency_power_df = pd.DataFrame.from_dict(agency_power_scores, orient='index')\n",
        "with open('agency_power_scores_more.csv', 'w') as f:\n",
        "    agency_power_df.to_csv(f)"
      ]
    },
    {
      "cell_type": "markdown",
      "metadata": {},
      "source": [
        "## General Analysis of whole text"
      ]
    },
    {
      "cell_type": "code",
      "execution_count": 5,
      "metadata": {
        "id": "fyPDhHuMOG34"
      },
      "outputs": [],
      "source": [
        "path = 'drive/MyDrive/2022-2023/Ovid_Metamorphoses/'\n",
        "with open(path + 'ovid.book', 'r') as f:\n",
        "  book = json.load(f)"
      ]
    },
    {
      "cell_type": "code",
      "execution_count": 76,
      "metadata": {
        "id": "ol0neP5vQ8Gw"
      },
      "outputs": [],
      "source": [
        "char_info = {}\n",
        "for char in book['characters']:\n",
        "  # skip if character is only referred to by pronouns\n",
        "  if not (char['mentions']['proper'] or char['mentions']['common']):\n",
        "    continue\n",
        "  if char['g'] is None:\n",
        "    continue\n",
        "\n",
        "  id = char['id']\n",
        "  char_info[id] = {\n",
        "      'names': [name['n'] for name in char['mentions']['proper']] + [name['n'] for name in char['mentions']['common']],\n",
        "      'gender': char['g']['argmax'],\n",
        "      'total_agent': len(char['agent']),\n",
        "      'total_object': len(char['patient'])\n",
        "  }\n",
        "  char_info[id]['name'] = char_info[id]['names'][0]"
      ]
    },
    {
      "cell_type": "code",
      "execution_count": 84,
      "metadata": {
        "id": "dwZ3r9YEXzY5"
      },
      "outputs": [],
      "source": [
        "char_df = pd.DataFrame(char_info).T\n",
        "char_df.reset_index(inplace=True)"
      ]
    },
    {
      "cell_type": "code",
      "execution_count": 85,
      "metadata": {
        "id": "IHxjSHLcX5lX"
      },
      "outputs": [],
      "source": [
        "char_df.drop(char_df[(char_df.total_agent + char_df.total_object) < 10].index, inplace=True)\n",
        "char_df.reset_index(inplace=True, drop=True)"
      ]
    },
    {
      "cell_type": "code",
      "execution_count": 86,
      "metadata": {
        "colab": {
          "base_uri": "https://localhost:8080/",
          "height": 424
        },
        "id": "0yIHSuJeckzu",
        "outputId": "6054e58c-5b15-4cf9-ee77-0683c7fac4d3"
      },
      "outputs": [
        {
          "data": {
            "text/html": [
              "\n",
              "  <div id=\"df-3c0e174a-5090-418d-a237-e952278f6274\">\n",
              "    <div class=\"colab-df-container\">\n",
              "      <div>\n",
              "<style scoped>\n",
              "    .dataframe tbody tr th:only-of-type {\n",
              "        vertical-align: middle;\n",
              "    }\n",
              "\n",
              "    .dataframe tbody tr th {\n",
              "        vertical-align: top;\n",
              "    }\n",
              "\n",
              "    .dataframe thead th {\n",
              "        text-align: right;\n",
              "    }\n",
              "</style>\n",
              "<table border=\"1\" class=\"dataframe\">\n",
              "  <thead>\n",
              "    <tr style=\"text-align: right;\">\n",
              "      <th></th>\n",
              "      <th>index</th>\n",
              "      <th>names</th>\n",
              "      <th>gender</th>\n",
              "      <th>total_agent</th>\n",
              "      <th>total_object</th>\n",
              "      <th>name</th>\n",
              "    </tr>\n",
              "  </thead>\n",
              "  <tbody>\n",
              "    <tr>\n",
              "      <th>0</th>\n",
              "      <td>5864</td>\n",
              "      <td>[the goddess, The goddess]</td>\n",
              "      <td>she/her</td>\n",
              "      <td>98</td>\n",
              "      <td>25</td>\n",
              "      <td>the goddess</td>\n",
              "    </tr>\n",
              "    <tr>\n",
              "      <th>1</th>\n",
              "      <td>499</td>\n",
              "      <td>[Jupiter, Ammon, mighty Jupiter, Jupiter Ammon...</td>\n",
              "      <td>he/him/his</td>\n",
              "      <td>76</td>\n",
              "      <td>21</td>\n",
              "      <td>Jupiter</td>\n",
              "    </tr>\n",
              "    <tr>\n",
              "      <th>2</th>\n",
              "      <td>605</td>\n",
              "      <td>[Jove, Hector, Ajax, mighty Jove, brave Ajax, ...</td>\n",
              "      <td>he/him/his</td>\n",
              "      <td>71</td>\n",
              "      <td>20</td>\n",
              "      <td>Jove</td>\n",
              "    </tr>\n",
              "    <tr>\n",
              "      <th>3</th>\n",
              "      <td>1482</td>\n",
              "      <td>[the god, The god]</td>\n",
              "      <td>he/him/his</td>\n",
              "      <td>99</td>\n",
              "      <td>12</td>\n",
              "      <td>the god</td>\n",
              "    </tr>\n",
              "    <tr>\n",
              "      <th>4</th>\n",
              "      <td>1538</td>\n",
              "      <td>[the gods, The gods]</td>\n",
              "      <td>they/them/their</td>\n",
              "      <td>56</td>\n",
              "      <td>25</td>\n",
              "      <td>the gods</td>\n",
              "    </tr>\n",
              "    <tr>\n",
              "      <th>...</th>\n",
              "      <td>...</td>\n",
              "      <td>...</td>\n",
              "      <td>...</td>\n",
              "      <td>...</td>\n",
              "      <td>...</td>\n",
              "      <td>...</td>\n",
              "    </tr>\n",
              "    <tr>\n",
              "      <th>187</th>\n",
              "      <td>6252</td>\n",
              "      <td>[the priest, The priest]</td>\n",
              "      <td>he/him/his</td>\n",
              "      <td>9</td>\n",
              "      <td>1</td>\n",
              "      <td>the priest</td>\n",
              "    </tr>\n",
              "    <tr>\n",
              "      <th>188</th>\n",
              "      <td>7104</td>\n",
              "      <td>[the Colchian witch]</td>\n",
              "      <td>she/her</td>\n",
              "      <td>10</td>\n",
              "      <td>0</td>\n",
              "      <td>the Colchian witch</td>\n",
              "    </tr>\n",
              "    <tr>\n",
              "      <th>189</th>\n",
              "      <td>1023</td>\n",
              "      <td>[Lelex]</td>\n",
              "      <td>he/him/his</td>\n",
              "      <td>9</td>\n",
              "      <td>1</td>\n",
              "      <td>Lelex</td>\n",
              "    </tr>\n",
              "    <tr>\n",
              "      <th>190</th>\n",
              "      <td>1685</td>\n",
              "      <td>[Venus ’s son]</td>\n",
              "      <td>he/him/his</td>\n",
              "      <td>10</td>\n",
              "      <td>1</td>\n",
              "      <td>Venus ’s son</td>\n",
              "    </tr>\n",
              "    <tr>\n",
              "      <th>191</th>\n",
              "      <td>2286</td>\n",
              "      <td>[Another, another]</td>\n",
              "      <td>he/him/his</td>\n",
              "      <td>10</td>\n",
              "      <td>1</td>\n",
              "      <td>Another</td>\n",
              "    </tr>\n",
              "  </tbody>\n",
              "</table>\n",
              "<p>192 rows × 6 columns</p>\n",
              "</div>\n",
              "      <button class=\"colab-df-convert\" onclick=\"convertToInteractive('df-3c0e174a-5090-418d-a237-e952278f6274')\"\n",
              "              title=\"Convert this dataframe to an interactive table.\"\n",
              "              style=\"display:none;\">\n",
              "        \n",
              "  <svg xmlns=\"http://www.w3.org/2000/svg\" height=\"24px\"viewBox=\"0 0 24 24\"\n",
              "       width=\"24px\">\n",
              "    <path d=\"M0 0h24v24H0V0z\" fill=\"none\"/>\n",
              "    <path d=\"M18.56 5.44l.94 2.06.94-2.06 2.06-.94-2.06-.94-.94-2.06-.94 2.06-2.06.94zm-11 1L8.5 8.5l.94-2.06 2.06-.94-2.06-.94L8.5 2.5l-.94 2.06-2.06.94zm10 10l.94 2.06.94-2.06 2.06-.94-2.06-.94-.94-2.06-.94 2.06-2.06.94z\"/><path d=\"M17.41 7.96l-1.37-1.37c-.4-.4-.92-.59-1.43-.59-.52 0-1.04.2-1.43.59L10.3 9.45l-7.72 7.72c-.78.78-.78 2.05 0 2.83L4 21.41c.39.39.9.59 1.41.59.51 0 1.02-.2 1.41-.59l7.78-7.78 2.81-2.81c.8-.78.8-2.07 0-2.86zM5.41 20L4 18.59l7.72-7.72 1.47 1.35L5.41 20z\"/>\n",
              "  </svg>\n",
              "      </button>\n",
              "      \n",
              "  <style>\n",
              "    .colab-df-container {\n",
              "      display:flex;\n",
              "      flex-wrap:wrap;\n",
              "      gap: 12px;\n",
              "    }\n",
              "\n",
              "    .colab-df-convert {\n",
              "      background-color: #E8F0FE;\n",
              "      border: none;\n",
              "      border-radius: 50%;\n",
              "      cursor: pointer;\n",
              "      display: none;\n",
              "      fill: #1967D2;\n",
              "      height: 32px;\n",
              "      padding: 0 0 0 0;\n",
              "      width: 32px;\n",
              "    }\n",
              "\n",
              "    .colab-df-convert:hover {\n",
              "      background-color: #E2EBFA;\n",
              "      box-shadow: 0px 1px 2px rgba(60, 64, 67, 0.3), 0px 1px 3px 1px rgba(60, 64, 67, 0.15);\n",
              "      fill: #174EA6;\n",
              "    }\n",
              "\n",
              "    [theme=dark] .colab-df-convert {\n",
              "      background-color: #3B4455;\n",
              "      fill: #D2E3FC;\n",
              "    }\n",
              "\n",
              "    [theme=dark] .colab-df-convert:hover {\n",
              "      background-color: #434B5C;\n",
              "      box-shadow: 0px 1px 3px 1px rgba(0, 0, 0, 0.15);\n",
              "      filter: drop-shadow(0px 1px 2px rgba(0, 0, 0, 0.3));\n",
              "      fill: #FFFFFF;\n",
              "    }\n",
              "  </style>\n",
              "\n",
              "      <script>\n",
              "        const buttonEl =\n",
              "          document.querySelector('#df-3c0e174a-5090-418d-a237-e952278f6274 button.colab-df-convert');\n",
              "        buttonEl.style.display =\n",
              "          google.colab.kernel.accessAllowed ? 'block' : 'none';\n",
              "\n",
              "        async function convertToInteractive(key) {\n",
              "          const element = document.querySelector('#df-3c0e174a-5090-418d-a237-e952278f6274');\n",
              "          const dataTable =\n",
              "            await google.colab.kernel.invokeFunction('convertToInteractive',\n",
              "                                                     [key], {});\n",
              "          if (!dataTable) return;\n",
              "\n",
              "          const docLinkHtml = 'Like what you see? Visit the ' +\n",
              "            '<a target=\"_blank\" href=https://colab.research.google.com/notebooks/data_table.ipynb>data table notebook</a>'\n",
              "            + ' to learn more about interactive tables.';\n",
              "          element.innerHTML = '';\n",
              "          dataTable['output_type'] = 'display_data';\n",
              "          await google.colab.output.renderOutput(dataTable, element);\n",
              "          const docLink = document.createElement('div');\n",
              "          docLink.innerHTML = docLinkHtml;\n",
              "          element.appendChild(docLink);\n",
              "        }\n",
              "      </script>\n",
              "    </div>\n",
              "  </div>\n",
              "  "
            ],
            "text/plain": [
              "     index                                              names  \\\n",
              "0     5864                         [the goddess, The goddess]   \n",
              "1      499  [Jupiter, Ammon, mighty Jupiter, Jupiter Ammon...   \n",
              "2      605  [Jove, Hector, Ajax, mighty Jove, brave Ajax, ...   \n",
              "3     1482                                 [the god, The god]   \n",
              "4     1538                               [the gods, The gods]   \n",
              "..     ...                                                ...   \n",
              "187   6252                           [the priest, The priest]   \n",
              "188   7104                               [the Colchian witch]   \n",
              "189   1023                                            [Lelex]   \n",
              "190   1685                                     [Venus ’s son]   \n",
              "191   2286                                 [Another, another]   \n",
              "\n",
              "              gender total_agent total_object                name  \n",
              "0            she/her          98           25         the goddess  \n",
              "1         he/him/his          76           21             Jupiter  \n",
              "2         he/him/his          71           20                Jove  \n",
              "3         he/him/his          99           12             the god  \n",
              "4    they/them/their          56           25            the gods  \n",
              "..               ...         ...          ...                 ...  \n",
              "187       he/him/his           9            1          the priest  \n",
              "188          she/her          10            0  the Colchian witch  \n",
              "189       he/him/his           9            1               Lelex  \n",
              "190       he/him/his          10            1        Venus ’s son  \n",
              "191       he/him/his          10            1             Another  \n",
              "\n",
              "[192 rows x 6 columns]"
            ]
          },
          "execution_count": 86,
          "metadata": {},
          "output_type": "execute_result"
        }
      ],
      "source": [
        "char_df"
      ]
    },
    {
      "cell_type": "code",
      "execution_count": 87,
      "metadata": {
        "id": "EEqw67vqYch_"
      },
      "outputs": [],
      "source": [
        "char_df['perc_agent'] = char_df['total_agent'] / (char_df['total_agent'] + char_df['total_object'])"
      ]
    },
    {
      "cell_type": "code",
      "execution_count": 88,
      "metadata": {
        "id": "X1crIzKYc9_8"
      },
      "outputs": [],
      "source": [
        "char_df.to_csv(path + 'gender_info_2.csv')"
      ]
    },
    {
      "cell_type": "code",
      "execution_count": 89,
      "metadata": {
        "id": "2MIaij1OcuDW"
      },
      "outputs": [],
      "source": [
        "# average agent per gender\n",
        "genders = char_df['gender'].unique()\n",
        "avg_gender_agent = {}\n",
        "for gender in genders:\n",
        "  gender_df = char_df[char_df['gender'] == gender]\n",
        "  total_agent = gender_df['total_agent'].sum()\n",
        "  total_object = gender_df['total_object'].sum()\n",
        "  \n",
        "  avg_gender_agent[gender] = total_agent / (total_agent + total_object)"
      ]
    },
    {
      "cell_type": "code",
      "execution_count": 90,
      "metadata": {
        "colab": {
          "base_uri": "https://localhost:8080/"
        },
        "id": "85N5Os4XgRq6",
        "outputId": "d43bbe90-aa80-4e84-e328-f172723fef6b"
      },
      "outputs": [
        {
          "data": {
            "text/plain": [
              "{'she/her': 0.7945454545454546,\n",
              " 'he/him/his': 0.8196847366397539,\n",
              " 'they/them/their': 0.7614942528735632}"
            ]
          },
          "execution_count": 90,
          "metadata": {},
          "output_type": "execute_result"
        }
      ],
      "source": [
        "avg_gender_agent"
      ]
    }
  ],
  "metadata": {
    "colab": {
      "provenance": []
    },
    "kernelspec": {
      "display_name": "Python 3.8.13 ('latinbert')",
      "language": "python",
      "name": "python3"
    },
    "language_info": {
      "codemirror_mode": {
        "name": "ipython",
        "version": 3
      },
      "file_extension": ".py",
      "mimetype": "text/x-python",
      "name": "python",
      "nbconvert_exporter": "python",
      "pygments_lexer": "ipython3",
      "version": "3.8.13"
    },
    "vscode": {
      "interpreter": {
        "hash": "17a1333eb79ca249b0809a90930b54a4fc20deadab21d1f1e4a0dfd5268dc99b"
      }
    }
  },
  "nbformat": 4,
  "nbformat_minor": 0
}
