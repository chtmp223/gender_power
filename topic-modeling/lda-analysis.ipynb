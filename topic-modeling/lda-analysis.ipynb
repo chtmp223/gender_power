{
 "cells": [
  {
   "cell_type": "code",
   "execution_count": 23,
   "metadata": {},
   "outputs": [],
   "source": [
    "import little_mallet_wrapper as lmw\n",
    "import pandas as pd\n",
    "\n",
    "%matplotlib inline\n",
    "\n",
    "path_to_mallet = '~/mallet/bin/mallet'\n",
    "path_to_proj = '../'\n",
    "title_to_train = \"ovid\"\n",
    "INPUT = \"../topic-modeling/input/ovid.tsv\"\n",
    "output_directory_path = path_to_proj + 'topic-modeling/output'"
   ]
  },
  {
   "cell_type": "markdown",
   "metadata": {},
   "source": [
    "## LDA result analysis"
   ]
  },
  {
   "cell_type": "code",
   "execution_count": 25,
   "metadata": {},
   "outputs": [],
   "source": [
    "# Explore results for different number of topics\n",
    "num_topics = 15"
   ]
  },
  {
   "cell_type": "code",
   "execution_count": 26,
   "metadata": {},
   "outputs": [
    {
     "name": "stdout",
     "output_type": "stream",
     "text": [
      "0 \t sea waters waves left river deep water ocean land nymphs\n",
      "1 \t body hair like arms face hands still turned eyes back\n",
      "2 \t juno birth set heifer latona crete pain bull divine seven\n",
      "3 \t earth fire air sky light sun clouds chariot world stars\n",
      "4 \t son city war achilles troy blood ulysses walls hector ajax\n",
      "5 \t sleep king sacred wine city temple incense set rites palace\n",
      "6 \t would said one father gods mother could love god let\n",
      "7 \t wings bird work song white flower birds minerva flew jupiter\n",
      "8 \t tree leaves branches without golden gold oak yellow spring bark\n",
      "9 \t spear wound blood hand sword one chest fell perseus death\n"
     ]
    }
   ],
   "source": [
    "# Examining the topics extracted from the data ---- \n",
    "topic_keys = lmw.load_topic_keys(output_directory_path + '/mallet.topic_keys.' + str(num_topics))\n",
    "\n",
    "for i, t in enumerate(topic_keys):\n",
    "    print(i, '\\t', ' '.join(t[:10]))"
   ]
  },
  {
   "cell_type": "code",
   "execution_count": 27,
   "metadata": {},
   "outputs": [
    {
     "name": "stdout",
     "output_type": "stream",
     "text": [
      "0.7327 left harbour breeze stirring rigging captain shipped oars ran yard top mast put sail catch freshening breeze ship cutting waves mid way across maybe less far either shore nightfall sea began whiten swelling waves east wind blow greater strength\n",
      "\n",
      "0.6542 hating wealth midas lived among woods fields mountain caves pan always inhabits remained dull witted foolish mind destined hurt owner mount tmolus stands steep high commanding wide view distant sea sloping sides extending sardis one side far tiny hypaepae pan playing light airs reeds glued together wax boasted pipings gentle nymphs dared speak slightingly apollo song compared entered unequal contest tmolus god mountain judge\n",
      "\n",
      "0.6524 galatea finished speaking group nereids went away swimming placid waves scylla returned beach daring trust mid ocean either wandered naked along parched sand tired found remote sheltered pool cooled limbs enclosed waters\n",
      "\n"
     ]
    }
   ],
   "source": [
    "topic_distributions = lmw.load_topic_distributions(output_directory_path + '/mallet.topic_distributions.' + str(num_topics))\n",
    "for p, d in lmw.get_top_docs(training_data, topic_distributions, topic_index=0, n=3):\n",
    "    print(round(p, 4), d)\n",
    "    print()"
   ]
  },
  {
   "cell_type": "code",
   "execution_count": 28,
   "metadata": {},
   "outputs": [
    {
     "name": "stdout",
     "output_type": "stream",
     "text": [
      "Topic 0\n",
      "0.0215 \t sea\n",
      "0.0161 \t waters\n",
      "0.0126 \t waves\n",
      "0.0089 \t left\n",
      "0.0082 \t river\n",
      "\n",
      "Topic 1\n",
      "0.0127 \t body\n",
      "0.0105 \t hair\n",
      "0.0093 \t like\n",
      "0.0091 \t arms\n",
      "0.0084 \t face\n",
      "\n",
      "Topic 2\n",
      "0.0089 \t juno\n",
      "0.0073 \t birth\n",
      "0.0064 \t set\n",
      "0.0054 \t heifer\n",
      "0.0051 \t latona\n",
      "\n",
      "Topic 3\n",
      "0.0239 \t earth\n",
      "0.013 \t fire\n",
      "0.0111 \t air\n",
      "0.0109 \t sky\n",
      "0.0095 \t light\n",
      "\n",
      "Topic 4\n",
      "0.0232 \t son\n",
      "0.0141 \t city\n",
      "0.0105 \t war\n",
      "0.0081 \t achilles\n",
      "0.0075 \t troy\n",
      "\n",
      "Topic 5\n",
      "0.0098 \t sleep\n",
      "0.0091 \t king\n",
      "0.0085 \t sacred\n",
      "0.0083 \t wine\n",
      "0.007 \t city\n",
      "\n",
      "Topic 6\n",
      "0.0119 \t would\n",
      "0.0118 \t said\n",
      "0.0117 \t one\n",
      "0.0114 \t father\n",
      "0.0108 \t gods\n",
      "\n",
      "Topic 7\n",
      "0.0201 \t wings\n",
      "0.012 \t bird\n",
      "0.007 \t work\n",
      "0.0064 \t white\n",
      "0.0064 \t song\n",
      "\n",
      "Topic 8\n",
      "0.0176 \t tree\n",
      "0.0101 \t leaves\n",
      "0.0098 \t branches\n",
      "0.0084 \t without\n",
      "0.0073 \t golden\n",
      "\n",
      "Topic 9\n",
      "0.0142 \t spear\n",
      "0.012 \t wound\n",
      "0.0113 \t blood\n",
      "0.0082 \t hand\n",
      "0.0069 \t sword\n",
      "\n"
     ]
    }
   ],
   "source": [
    "topic_word_probability_dict = lmw.load_topic_word_distributions(output_directory_path + '/mallet.word_weights.' + str(num_topics))\n",
    "for _topic, _word_probability_dict in topic_word_probability_dict.items():\n",
    "    print('Topic', _topic)\n",
    "    for _word, _probability in sorted(_word_probability_dict.items(), key=lambda x: x[1], reverse=True)[:5]:\n",
    "        print(round(_probability, 4), '\\t', _word)\n",
    "    print()"
   ]
  },
  {
   "cell_type": "code",
   "execution_count": 29,
   "metadata": {},
   "outputs": [
    {
     "data": {
      "text/plain": [
       "0.6642742649147286"
      ]
     },
     "execution_count": 29,
     "metadata": {},
     "output_type": "execute_result"
    }
   ],
   "source": [
    "lmw.get_js_divergence_topics(0, 7, topic_word_probability_dict)"
   ]
  }
 ],
 "metadata": {
  "kernelspec": {
   "display_name": "Python 3.8.8 ('base')",
   "language": "python",
   "name": "python3"
  },
  "language_info": {
   "codemirror_mode": {
    "name": "ipython",
    "version": 3
   },
   "file_extension": ".py",
   "mimetype": "text/x-python",
   "name": "python",
   "nbconvert_exporter": "python",
   "pygments_lexer": "ipython3",
   "version": "3.8.8"
  },
  "vscode": {
   "interpreter": {
    "hash": "40d3a090f54c6569ab1632332b64b2c03c39dcf918b08424e98f38b5ae0af88f"
   }
  }
 },
 "nbformat": 4,
 "nbformat_minor": 2
}
