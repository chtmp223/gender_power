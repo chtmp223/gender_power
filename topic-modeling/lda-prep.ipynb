{
 "cells": [
  {
   "cell_type": "code",
   "execution_count": 11,
   "metadata": {},
   "outputs": [],
   "source": [
    "import pandas as pd\n",
    "\n",
    "INPUT = \"../corpora/ovid_raw_text.txt\""
   ]
  },
  {
   "cell_type": "code",
   "execution_count": 12,
   "metadata": {},
   "outputs": [],
   "source": [
    "# Generating .tsv input file for LDA training ----\n",
    "# Unit of analysis: paragpraphs\n",
    "para = []\n",
    "para_length = []\n",
    "with open(INPUT, 'r') as f: \n",
    "  lines = f.readlines()\n",
    "  for line in lines:\n",
    "    line = ' '.join(line.split())     # replace all whitespace with single space\n",
    "    if len(line.split())>0: \n",
    "      para.append(line)\n",
    "      para_length.append(len(line.split()))\n",
    "\n",
    "data = pd.DataFrame({'title': ['metamorphoses']*len(para_length), 'text': para})\n",
    "data.to_csv(\"./input/ovid_para.tsv\", sep='\\t')"
   ]
  },
  {
   "cell_type": "code",
   "execution_count": 13,
   "metadata": {},
   "outputs": [
    {
     "data": {
      "text/plain": [
       "count    1030.000000\n",
       "mean      122.585437\n",
       "std        67.115945\n",
       "min         3.000000\n",
       "25%        80.000000\n",
       "50%       118.000000\n",
       "75%       160.000000\n",
       "max       447.000000\n",
       "dtype: float64"
      ]
     },
     "execution_count": 13,
     "metadata": {},
     "output_type": "execute_result"
    }
   ],
   "source": [
    "pd.Series(para_length).describe()"
   ]
  },
  {
   "cell_type": "code",
   "execution_count": 14,
   "metadata": {},
   "outputs": [],
   "source": [
    "# Unit of analysis: sentences\n",
    "sents = []\n",
    "sent_length = []\n",
    "with open(INPUT, 'r') as f: \n",
    "  lines = f.readlines()\n",
    "  for line in lines:\n",
    "    line = ' '.join(line.split())     # replace all whitespace with single space\n",
    "    if len(line.split())>0: \n",
    "      for sent in line.split('.'):\n",
    "        if sent != \"\\n\" and sent != \"’\" and sent != \"‘\" and sent != \" \" and sent != \"\" and len(sent)>0:\n",
    "          sents.append(sent)\n",
    "          sent_length.append(len(sent.split()))\n",
    "\n",
    "data = pd.DataFrame({'title': ['metamorphoses']*len(sents), 'text': sents})\n",
    "data.to_csv( \"./input/ovid_sent.tsv\", sep='\\t')"
   ]
  },
  {
   "cell_type": "code",
   "execution_count": 15,
   "metadata": {},
   "outputs": [
    {
     "data": {
      "text/plain": [
       "count    4898.000000\n",
       "mean       25.812985\n",
       "std        16.550383\n",
       "min         1.000000\n",
       "25%        16.000000\n",
       "50%        22.000000\n",
       "75%        33.000000\n",
       "max       269.000000\n",
       "dtype: float64"
      ]
     },
     "execution_count": 15,
     "metadata": {},
     "output_type": "execute_result"
    }
   ],
   "source": [
    "pd.Series(sent_length).describe()"
   ]
  }
 ],
 "metadata": {
  "kernelspec": {
   "display_name": "Python 3.8.2 64-bit",
   "language": "python",
   "name": "python3"
  },
  "language_info": {
   "codemirror_mode": {
    "name": "ipython",
    "version": 3
   },
   "file_extension": ".py",
   "mimetype": "text/x-python",
   "name": "python",
   "nbconvert_exporter": "python",
   "pygments_lexer": "ipython3",
   "version": "3.8.2"
  },
  "orig_nbformat": 4,
  "vscode": {
   "interpreter": {
    "hash": "949777d72b0d2535278d3dc13498b2535136f6dfe0678499012e853ee9abcab1"
   }
  }
 },
 "nbformat": 4,
 "nbformat_minor": 2
}
