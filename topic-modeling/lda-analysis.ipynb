{
 "cells": [
  {
   "cell_type": "code",
   "execution_count": 9,
   "metadata": {},
   "outputs": [],
   "source": [
    "import little_mallet_wrapper as lmw\n",
    "import pandas as pd\n",
    "\n",
    "%matplotlib inline\n",
    "\n",
    "path_to_mallet = '~/mallet/bin/mallet'\n",
    "path_to_proj = '../'\n",
    "title_to_train = \"ovid\"\n",
    "INPUT = \"../topic-modeling/input/ovid.tsv\"\n",
    "output_directory_path = path_to_proj + 'topic-modeling/output'"
   ]
  },
  {
   "cell_type": "code",
   "execution_count": 10,
   "metadata": {},
   "outputs": [],
   "source": [
    "train_df = pd.read_csv(INPUT, sep='\\t')\n",
    "training_data = [lmw.process_string(t) for t in train_df['text'].tolist()]\n",
    "training_data = [d for d in training_data if d.strip()]"
   ]
  },
  {
   "cell_type": "markdown",
   "metadata": {},
   "source": [
    "## LDA result analysis"
   ]
  },
  {
   "cell_type": "code",
   "execution_count": 11,
   "metadata": {},
   "outputs": [],
   "source": [
    "num_topics = 20"
   ]
  },
  {
   "cell_type": "code",
   "execution_count": 12,
   "metadata": {},
   "outputs": [
    {
     "name": "stdout",
     "output_type": "stream",
     "text": [
      "0 \t tree oak branches leaves without golden bark trunk made tall\n",
      "1 \t earth fire air sky sun light clouds heavens stars world\n",
      "2 \t spear wound hand blood fell enemy perseus sword chest one\n",
      "3 \t fate sister husband tears procne tereus alcyone ceyx philomela poor\n",
      "4 \t minos crete strength flower cephalus cretan lock aeacus male purple\n",
      "5 \t wings bird white birds swift changed feathers air flight caught\n",
      "6 \t city son king people came god left temple sacred walls\n",
      "7 \t sea waves waters land shore ocean ship wind water curved\n",
      "8 \t death blood life mother shall dead body man spirit grief\n",
      "9 \t hair body face like saw hands arms back still could\n",
      "10 \t night sleep black thousand house rest light ears day mercury\n",
      "11 \t father gods would one son said let great jupiter words\n",
      "12 \t wild blood first creature woods fields boar trees jaws fierce\n",
      "13 \t love girl would might said many though one marriage beauty\n",
      "14 \t food twin wine mount dragons trembling sent ceres famous lying\n",
      "15 \t goddess waters nymphs water river pool spring stream fountain depths\n",
      "16 \t snake serpent river breath hero teeth tail venom tongue conquered\n",
      "17 \t work song lyre mount minerva flowers fingers orpheus threads poet\n",
      "18 \t son war troy achilles arms ulysses hector ajax trojan yet\n",
      "19 \t herbs magic jason lived medea black age aegeus aeson triple\n"
     ]
    }
   ],
   "source": [
    "# Examining the topics extracted from the data ---- \n",
    "topic_keys = lmw.load_topic_keys(output_directory_path + '/mallet.topic_keys.' + str(num_topics))\n",
    "\n",
    "for i, t in enumerate(topic_keys):\n",
    "    print(i, '\\t', ' '.join(t[:10]))"
   ]
  },
  {
   "cell_type": "code",
   "execution_count": 13,
   "metadata": {},
   "outputs": [
    {
     "name": "stdout",
     "output_type": "stream",
     "text": [
      "0.5994 gods heaven met humble household gods stooping passed low doorway old man pulled bench requested rest limbs bench baucis threw rough blanket raked warm ashes hearth brought yesterday fire life feeding leaves dried bark nursing flames aged breath pulled finely divided twigs dry stems roof breaking pushed small bronze pot next stripped leaves vegetables husband gathered well watered garden used two pronged stick lift wretched looking chine meat hanging blackened beam cutting meagre piece carefully saved chine put cut seethe boiling water\n",
      "\n",
      "0.5648 knew well would regret flight would condemn efforts hold half mountain mine deep caves natural rock winter felt midsummer sun apples weigh branches golden purple grapes trailing vines keep pick ripe strawberries born woodland shadows autumn cherries plums juicy blue purples also large yellow ones colour fresh bees wax lack fruit wild strawberry trees tall chestnuts every tree serve\n",
      "\n",
      "0.4972 hill hill wide area level ground turfed fresh blades grass shade absent poet born god sounded strings lyre shade gathered jupiter chaonian oak tree came phaethon sisters heliades poplars durmast oak deep foliage soft lime tree beech virgin sweet bay laurel hazel frail ash tree used spears sweeping silver fir holm oak heavy acorns pleasant plane tree many coloured maple river haunting willow lotus water lover boxwood ever verdant slender tamarisk myrtle leaves two shades green blue berried wild bay laurus tinus came also twining ivy together shooting vines vine supporting elms flowering manna ash spruce strawberry tree weighed red fruit pliant palms winner prize shaggy topped pine tree armed needles sacred cybele mother gods since attis exchanged human form hardened trunk\n",
      "\n"
     ]
    }
   ],
   "source": [
    "topic_distributions = lmw.load_topic_distributions(output_directory_path + '/mallet.topic_distributions.' + str(num_topics))\n",
    "for p, d in lmw.get_top_docs(training_data, topic_distributions, topic_index=0, n=3):\n",
    "    print(round(p, 4), d)\n",
    "    print()"
   ]
  },
  {
   "cell_type": "code",
   "execution_count": 14,
   "metadata": {},
   "outputs": [
    {
     "name": "stdout",
     "output_type": "stream",
     "text": [
      "Topic 0\n",
      "0.0321 \t tree\n",
      "0.0141 \t oak\n",
      "0.0137 \t branches\n",
      "0.0116 \t leaves\n",
      "0.0111 \t without\n",
      "\n",
      "Topic 1\n",
      "0.0343 \t earth\n",
      "0.0208 \t fire\n",
      "0.014 \t air\n",
      "0.0127 \t sky\n",
      "0.0104 \t sun\n",
      "\n",
      "Topic 2\n",
      "0.0224 \t spear\n",
      "0.0136 \t wound\n",
      "0.0125 \t hand\n",
      "0.0119 \t blood\n",
      "0.0111 \t fell\n",
      "\n",
      "Topic 3\n",
      "0.0119 \t fate\n",
      "0.0113 \t tears\n",
      "0.0113 \t husband\n",
      "0.0113 \t sister\n",
      "0.0095 \t procne\n",
      "\n",
      "Topic 4\n",
      "0.0151 \t minos\n",
      "0.0119 \t crete\n",
      "0.0095 \t strength\n",
      "0.0087 \t flower\n",
      "0.0079 \t cretan\n",
      "\n",
      "Topic 5\n",
      "0.04 \t wings\n",
      "0.0255 \t bird\n",
      "0.0125 \t white\n",
      "0.012 \t changed\n",
      "0.012 \t swift\n",
      "\n",
      "Topic 6\n",
      "0.0244 \t city\n",
      "0.0159 \t son\n",
      "0.0128 \t king\n",
      "0.0123 \t people\n",
      "0.0116 \t came\n",
      "\n",
      "Topic 7\n",
      "0.0499 \t sea\n",
      "0.026 \t waves\n",
      "0.0218 \t waters\n",
      "0.0153 \t land\n",
      "0.0146 \t shore\n",
      "\n",
      "Topic 8\n",
      "0.0258 \t death\n",
      "0.0202 \t blood\n",
      "0.0182 \t life\n",
      "0.0159 \t mother\n",
      "0.0115 \t shall\n",
      "\n",
      "Topic 9\n",
      "0.0112 \t hair\n",
      "0.0105 \t body\n",
      "0.0103 \t face\n",
      "0.0097 \t like\n",
      "0.0094 \t saw\n",
      "\n",
      "Topic 10\n",
      "0.0265 \t night\n",
      "0.024 \t sleep\n",
      "0.0102 \t black\n",
      "0.0092 \t house\n",
      "0.0092 \t thousand\n",
      "\n",
      "Topic 11\n",
      "0.0204 \t father\n",
      "0.0178 \t gods\n",
      "0.0135 \t would\n",
      "0.0133 \t one\n",
      "0.0105 \t son\n",
      "\n",
      "Topic 12\n",
      "0.0193 \t wild\n",
      "0.0126 \t blood\n",
      "0.0111 \t first\n",
      "0.0103 \t creature\n",
      "0.0095 \t woods\n",
      "\n",
      "Topic 13\n",
      "0.0257 \t love\n",
      "0.0215 \t girl\n",
      "0.0148 \t would\n",
      "0.0137 \t might\n",
      "0.0127 \t said\n",
      "\n",
      "Topic 14\n",
      "0.0102 \t food\n",
      "0.0095 \t twin\n",
      "0.0089 \t wine\n",
      "0.0083 \t mount\n",
      "0.007 \t sent\n",
      "\n",
      "Topic 15\n",
      "0.0181 \t goddess\n",
      "0.0172 \t waters\n",
      "0.016 \t nymphs\n",
      "0.0123 \t water\n",
      "0.0107 \t river\n",
      "\n",
      "Topic 16\n",
      "0.0211 \t snake\n",
      "0.0157 \t serpent\n",
      "0.0127 \t river\n",
      "0.0097 \t breath\n",
      "0.0079 \t venom\n",
      "\n",
      "Topic 17\n",
      "0.0141 \t work\n",
      "0.0115 \t song\n",
      "0.0084 \t mount\n",
      "0.0084 \t lyre\n",
      "0.0078 \t minerva\n",
      "\n",
      "Topic 18\n",
      "0.0231 \t son\n",
      "0.02 \t war\n",
      "0.0144 \t achilles\n",
      "0.0144 \t troy\n",
      "0.0136 \t arms\n",
      "\n",
      "Topic 19\n",
      "0.0202 \t herbs\n",
      "0.0104 \t magic\n",
      "0.0098 \t jason\n",
      "0.0078 \t lived\n",
      "0.0072 \t black\n",
      "\n"
     ]
    }
   ],
   "source": [
    "topic_word_probability_dict = lmw.load_topic_word_distributions(output_directory_path + '/mallet.word_weights.' + str(num_topics))\n",
    "for _topic, _word_probability_dict in topic_word_probability_dict.items():\n",
    "    print('Topic', _topic)\n",
    "    for _word, _probability in sorted(_word_probability_dict.items(), key=lambda x: x[1], reverse=True)[:5]:\n",
    "        print(round(_probability, 4), '\\t', _word)\n",
    "    print()"
   ]
  },
  {
   "cell_type": "code",
   "execution_count": 15,
   "metadata": {},
   "outputs": [
    {
     "data": {
      "text/plain": [
       "0.7042070154810324"
      ]
     },
     "execution_count": 15,
     "metadata": {},
     "output_type": "execute_result"
    }
   ],
   "source": [
    "lmw.get_js_divergence_topics(0, 7, topic_word_probability_dict)"
   ]
  }
 ],
 "metadata": {
  "kernelspec": {
   "display_name": "Python 3.8.8 ('base')",
   "language": "python",
   "name": "python3"
  },
  "language_info": {
   "codemirror_mode": {
    "name": "ipython",
    "version": 3
   },
   "file_extension": ".py",
   "mimetype": "text/x-python",
   "name": "python",
   "nbconvert_exporter": "python",
   "pygments_lexer": "ipython3",
   "version": "3.8.8"
  },
  "vscode": {
   "interpreter": {
    "hash": "40d3a090f54c6569ab1632332b64b2c03c39dcf918b08424e98f38b5ae0af88f"
   }
  }
 },
 "nbformat": 4,
 "nbformat_minor": 2
}
