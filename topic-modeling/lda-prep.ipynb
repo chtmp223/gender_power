{
 "cells": [
  {
   "cell_type": "code",
   "execution_count": 1,
   "metadata": {},
   "outputs": [],
   "source": [
    "import pandas as pd\n",
    "\n",
    "INPUT = \"../corpora/ovid_raw_text.txt\"\n",
    "OUTPUT = \"./input/ovid.tsv\""
   ]
  },
  {
   "cell_type": "code",
   "execution_count": 2,
   "metadata": {},
   "outputs": [],
   "source": [
    "text = []\n",
    "with open(INPUT, 'r') as f: \n",
    "  for line in f.readlines():\n",
    "    if len(line.split())>0: \n",
    "      text.append(line)\n",
    "\n",
    "data = pd.DataFrame({'title': ['metamorphoses']*len(text), 'text': text})\n",
    "data.to_csv(OUTPUT, sep='\\t')"
   ]
  }
 ],
 "metadata": {
  "kernelspec": {
   "display_name": "Python 3.8.2 64-bit",
   "language": "python",
   "name": "python3"
  },
  "language_info": {
   "codemirror_mode": {
    "name": "ipython",
    "version": 3
   },
   "file_extension": ".py",
   "mimetype": "text/x-python",
   "name": "python",
   "nbconvert_exporter": "python",
   "pygments_lexer": "ipython3",
   "version": "3.8.2"
  },
  "orig_nbformat": 4,
  "vscode": {
   "interpreter": {
    "hash": "949777d72b0d2535278d3dc13498b2535136f6dfe0678499012e853ee9abcab1"
   }
  }
 },
 "nbformat": 4,
 "nbformat_minor": 2
}
